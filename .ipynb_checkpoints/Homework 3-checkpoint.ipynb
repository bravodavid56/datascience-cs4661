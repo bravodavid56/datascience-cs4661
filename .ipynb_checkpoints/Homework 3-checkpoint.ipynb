{
 "cells": [
  {
   "cell_type": "markdown",
   "metadata": {},
   "source": [
    "## Homework 2 ## \n",
    "\n",
    "------------------\n",
    "\n",
    "### Dave Bravo-Ruelas: 302798475 ###\n",
    "\n",
    "### Alex Perez: 302079523 ###\n",
    "\n",
    "### Angel Orduno: 302090300 ###"
   ]
  },
  {
   "cell_type": "markdown",
   "metadata": {},
   "source": [
    "---------------------\n",
    "\n",
    "---------------------"
   ]
  },
  {
   "cell_type": "markdown",
   "metadata": {},
   "source": [
    "### Question 1 ###\n"
   ]
  },
  {
   "cell_type": "code",
   "execution_count": 128,
   "metadata": {
    "collapsed": true
   },
   "outputs": [],
   "source": [
    "# import all necessary libraries\n",
    "import pandas as pd\n",
    "from sklearn.neighbors import KNeighborsClassifier as knn\n",
    "import numpy as np\n",
    "from sklearn.cross_validation import train_test_split\n",
    "from sklearn.linear_model import LogisticRegression as LR\n",
    "from sklearn.tree import DecisionTreeClassifier as DTC\n",
    "from sklearn.metrics import accuracy_score\n",
    "from sklearn.cross_validation import cross_val_score\n",
    "from sklearn.neighbors import KNeighborsClassifier\n",
    "from sklearn.cross_validation import train_test_split\n",
    "from sklearn.metrics import accuracy_score\n",
    "from sklearn.linear_model import LinearRegression\n",
    "from sklearn import metrics"
   ]
  },
  {
   "cell_type": "markdown",
   "metadata": {},
   "source": [
    "### a) ###\n",
    "\n",
    "#### Read the dataset into a Pandas DataFrame #### \n"
   ]
  },
  {
   "cell_type": "code",
   "execution_count": 113,
   "metadata": {
    "collapsed": false
   },
   "outputs": [],
   "source": [
    "df = pd.read_csv(\"https://raw.githubusercontent.com/bravodavid56/datascience-cs4661/master/Homework%203/Credit.csv\")"
   ]
  },
  {
   "cell_type": "markdown",
   "metadata": {},
   "source": [
    "### b) ###\n",
    "\n",
    "#### Check out the dataset ####"
   ]
  },
  {
   "cell_type": "code",
   "execution_count": 114,
   "metadata": {
    "collapsed": false
   },
   "outputs": [
    {
     "data": {
      "text/html": [
       "<div>\n",
       "<table border=\"1\" class=\"dataframe\">\n",
       "  <thead>\n",
       "    <tr style=\"text-align: right;\">\n",
       "      <th></th>\n",
       "      <th>Income</th>\n",
       "      <th>Limit</th>\n",
       "      <th>Rating</th>\n",
       "      <th>Cards</th>\n",
       "      <th>Age</th>\n",
       "      <th>Education</th>\n",
       "      <th>Married</th>\n",
       "      <th>Balance</th>\n",
       "    </tr>\n",
       "  </thead>\n",
       "  <tbody>\n",
       "    <tr>\n",
       "      <th>0</th>\n",
       "      <td>14.891</td>\n",
       "      <td>3606</td>\n",
       "      <td>283</td>\n",
       "      <td>2</td>\n",
       "      <td>34</td>\n",
       "      <td>11</td>\n",
       "      <td>1</td>\n",
       "      <td>333</td>\n",
       "    </tr>\n",
       "    <tr>\n",
       "      <th>100</th>\n",
       "      <td>21.153</td>\n",
       "      <td>3736</td>\n",
       "      <td>256</td>\n",
       "      <td>1</td>\n",
       "      <td>41</td>\n",
       "      <td>11</td>\n",
       "      <td>0</td>\n",
       "      <td>298</td>\n",
       "    </tr>\n",
       "    <tr>\n",
       "      <th>200</th>\n",
       "      <td>23.949</td>\n",
       "      <td>5343</td>\n",
       "      <td>383</td>\n",
       "      <td>2</td>\n",
       "      <td>40</td>\n",
       "      <td>18</td>\n",
       "      <td>1</td>\n",
       "      <td>829</td>\n",
       "    </tr>\n",
       "    <tr>\n",
       "      <th>300</th>\n",
       "      <td>21.786</td>\n",
       "      <td>4632</td>\n",
       "      <td>355</td>\n",
       "      <td>1</td>\n",
       "      <td>50</td>\n",
       "      <td>17</td>\n",
       "      <td>1</td>\n",
       "      <td>580</td>\n",
       "    </tr>\n",
       "  </tbody>\n",
       "</table>\n",
       "</div>"
      ],
      "text/plain": [
       "     Income  Limit  Rating  Cards  Age  Education  Married  Balance\n",
       "0    14.891   3606     283      2   34         11        1      333\n",
       "100  21.153   3736     256      1   41         11        0      298\n",
       "200  23.949   5343     383      2   40         18        1      829\n",
       "300  21.786   4632     355      1   50         17        1      580"
      ]
     },
     "execution_count": 114,
     "metadata": {},
     "output_type": "execute_result"
    }
   ],
   "source": [
    "df[::100]"
   ]
  },
  {
   "cell_type": "markdown",
   "metadata": {},
   "source": [
    "### c) ###\n",
    "\n",
    "#### Generate the feature matrix and target vector, and normalize features ####\n"
   ]
  },
  {
   "cell_type": "code",
   "execution_count": 115,
   "metadata": {
    "collapsed": false
   },
   "outputs": [
    {
     "name": "stderr",
     "output_type": "stream",
     "text": [
      "C:\\Users\\Dave Bravo-Ruelas\\Anaconda3\\lib\\site-packages\\pandas\\core\\indexing.py:465: SettingWithCopyWarning: \n",
      "A value is trying to be set on a copy of a slice from a DataFrame.\n",
      "Try using .loc[row_indexer,col_indexer] = value instead\n",
      "\n",
      "See the caveats in the documentation: http://pandas.pydata.org/pandas-docs/stable/indexing.html#indexing-view-versus-copy\n",
      "  self.obj[item] = s\n"
     ]
    }
   ],
   "source": [
    "\n",
    "# generate feature matrix \n",
    "features = [\"Income\", \"Limit\",\"Rating\", \"Cards\",\"Age\",\"Education\",\"Married\"]\n",
    "feature_matrix = df[features]\n",
    "\n",
    "label = df['Balance']\n",
    "\n",
    "# feature_matrix['Income'] = feature_matrix['']\n",
    "# find the max of each feature to then normalize the features by their maximum values\n",
    "\n",
    "income = feature_matrix['Income'].max()\n",
    "limit = feature_matrix['Limit'].max()\n",
    "rating = feature_matrix['Rating'].max()\n",
    "cards = feature_matrix['Cards'].max()\n",
    "age = feature_matrix['Age'].max()\n",
    "education = feature_matrix['Education'].max()\n",
    "\n",
    "# no need to normalize the married feature\n",
    "# married = feature_matrix['Married'].max()\n",
    "\n",
    "def inc_norm(x):\n",
    "    return x / income\n",
    "\n",
    "def lim_norm(x):\n",
    "    return x / limit\n",
    "\n",
    "def rat_norm(x):\n",
    "    return x / rating\n",
    "\n",
    "def car_norm(x):\n",
    "    return x / cards\n",
    "\n",
    "def age_norm(x):\n",
    "    return x / age\n",
    "\n",
    "def edu_norm(x):\n",
    "    return x / education\n",
    "\n",
    "# no need to normalize married since it's binary \n",
    "# def mar_norm(x):\n",
    "#    return x / married\n",
    "\n",
    "feature_matrix.loc[:,'Income'] = feature_matrix['Income'].apply(inc_norm)\n",
    "feature_matrix.loc[:,'Limit'] = feature_matrix['Limit'].apply(lim_norm)\n",
    "feature_matrix.loc[:,'Rating'] = feature_matrix['Rating'].apply(rat_norm)\n",
    "feature_matrix.loc[:,'Cards'] = feature_matrix['Cards'].apply(car_norm)\n",
    "feature_matrix.loc[:,'Age'] = feature_matrix['Age'].apply(age_norm)\n",
    "feature_matrix.loc[:,'Education'] = feature_matrix['Education'].apply(edu_norm)\n"
   ]
  },
  {
   "cell_type": "code",
   "execution_count": 116,
   "metadata": {
    "collapsed": false
   },
   "outputs": [
    {
     "data": {
      "text/html": [
       "<div>\n",
       "<table border=\"1\" class=\"dataframe\">\n",
       "  <thead>\n",
       "    <tr style=\"text-align: right;\">\n",
       "      <th></th>\n",
       "      <th>Income</th>\n",
       "      <th>Limit</th>\n",
       "      <th>Rating</th>\n",
       "      <th>Cards</th>\n",
       "      <th>Age</th>\n",
       "      <th>Education</th>\n",
       "      <th>Married</th>\n",
       "    </tr>\n",
       "  </thead>\n",
       "  <tbody>\n",
       "    <tr>\n",
       "      <th>0</th>\n",
       "      <td>0.079787</td>\n",
       "      <td>0.259182</td>\n",
       "      <td>0.288187</td>\n",
       "      <td>0.222222</td>\n",
       "      <td>0.346939</td>\n",
       "      <td>0.55</td>\n",
       "      <td>1</td>\n",
       "    </tr>\n",
       "    <tr>\n",
       "      <th>100</th>\n",
       "      <td>0.113339</td>\n",
       "      <td>0.268526</td>\n",
       "      <td>0.260692</td>\n",
       "      <td>0.111111</td>\n",
       "      <td>0.418367</td>\n",
       "      <td>0.55</td>\n",
       "      <td>0</td>\n",
       "    </tr>\n",
       "    <tr>\n",
       "      <th>200</th>\n",
       "      <td>0.128321</td>\n",
       "      <td>0.384029</td>\n",
       "      <td>0.390020</td>\n",
       "      <td>0.222222</td>\n",
       "      <td>0.408163</td>\n",
       "      <td>0.90</td>\n",
       "      <td>1</td>\n",
       "    </tr>\n",
       "    <tr>\n",
       "      <th>300</th>\n",
       "      <td>0.116731</td>\n",
       "      <td>0.332926</td>\n",
       "      <td>0.361507</td>\n",
       "      <td>0.111111</td>\n",
       "      <td>0.510204</td>\n",
       "      <td>0.85</td>\n",
       "      <td>1</td>\n",
       "    </tr>\n",
       "  </tbody>\n",
       "</table>\n",
       "</div>"
      ],
      "text/plain": [
       "       Income     Limit    Rating     Cards       Age  Education  Married\n",
       "0    0.079787  0.259182  0.288187  0.222222  0.346939       0.55        1\n",
       "100  0.113339  0.268526  0.260692  0.111111  0.418367       0.55        0\n",
       "200  0.128321  0.384029  0.390020  0.222222  0.408163       0.90        1\n",
       "300  0.116731  0.332926  0.361507  0.111111  0.510204       0.85        1"
      ]
     },
     "execution_count": 116,
     "metadata": {},
     "output_type": "execute_result"
    }
   ],
   "source": [
    "# printing the normalized features\n",
    "feature_matrix[::100]\n"
   ]
  },
  {
   "cell_type": "markdown",
   "metadata": {},
   "source": [
    "### d) ###\n",
    "\n",
    "#### Splitting the dataset into testing and training set #### "
   ]
  },
  {
   "cell_type": "code",
   "execution_count": 117,
   "metadata": {
    "collapsed": false
   },
   "outputs": [
    {
     "name": "stdout",
     "output_type": "stream",
     "text": [
      "(320, 7) (80, 7) \n",
      " (320,) (80,)\n"
     ]
    }
   ],
   "source": [
    "# feature_train = features used for training\n",
    "# feature_test = features used for testing\n",
    "# label_train = label used for training \n",
    "# label_test = label used for testing \n",
    "\n",
    "feature_train, feature_test, label_train, label_test = train_test_split(feature_matrix, label, test_size = 0.2, random_state = 2)\n",
    "\n",
    "print(feature_train.shape, feature_test.shape, \"\\n\", label_train.shape, label_test.shape)\n"
   ]
  },
  {
   "cell_type": "markdown",
   "metadata": {},
   "source": [
    "### e) ### \n",
    "\n",
    "#### Linear Regression Model #### "
   ]
  },
  {
   "cell_type": "code",
   "execution_count": 121,
   "metadata": {
    "collapsed": false
   },
   "outputs": [
    {
     "data": {
      "text/plain": [
       "LinearRegression(copy_X=True, fit_intercept=True, n_jobs=1, normalize=False)"
      ]
     },
     "execution_count": 121,
     "metadata": {},
     "output_type": "execute_result"
    }
   ],
   "source": [
    "# creating a linear regression model \n",
    "my_linreg = LinearRegression()\n",
    "\n",
    "# fitting the model using our training sets\n",
    "my_linreg.fit(feature_train, label_train)\n"
   ]
  },
  {
   "cell_type": "code",
   "execution_count": 122,
   "metadata": {
    "collapsed": false
   },
   "outputs": [
    {
     "name": "stdout",
     "output_type": "stream",
     "text": [
      "-451.390136282\n",
      "[-1413.47222539  1357.75410875  2441.3004289    103.52548744  -102.02433542\n",
      "    40.34044338   -48.45522561]\n"
     ]
    }
   ],
   "source": [
    "# printing Theta0 using attribute \"intercept_\":\n",
    "print(my_linreg.intercept_)\n",
    "\n",
    "# printing [Theta1, Theta2, Theta3] using attribute \"coef_\":\n",
    "print(my_linreg.coef_)"
   ]
  },
  {
   "cell_type": "markdown",
   "metadata": {},
   "source": [
    "#### Thus, we can see that Credit Card rating is the most important, while Income was the least important ####"
   ]
  },
  {
   "cell_type": "markdown",
   "metadata": {},
   "source": [
    "### f) ### \n",
    "#### Predict \"balance\" for users in testing set ####\n",
    "\n",
    "#### Then compare to the actual balance and reporting the RMSE ####"
   ]
  },
  {
   "cell_type": "code",
   "execution_count": 129,
   "metadata": {
    "collapsed": false
   },
   "outputs": [
    {
     "name": "stdout",
     "output_type": "stream",
     "text": [
      "154.410746767\n"
     ]
    }
   ],
   "source": [
    "# make predictions on the testing set\n",
    "y_prediction = my_linreg.predict(feature_test)\n",
    "\n",
    "# calculate mean square error \n",
    "mse = metrics.mean_squared_error(label_test, y_prediction)\n",
    "rmse = np.sqrt(mse)\n",
    "print(rmse)"
   ]
  },
  {
   "cell_type": "markdown",
   "metadata": {},
   "source": [
    "### g) ###\n",
    "\n",
    "#### Use 10-fold Cross Validation #### "
   ]
  },
  {
   "cell_type": "code",
   "execution_count": 130,
   "metadata": {
    "collapsed": false
   },
   "outputs": [
    {
     "name": "stdout",
     "output_type": "stream",
     "text": [
      "[-23646.90415343 -32003.04401232 -35462.64435619 -37327.60719635\n",
      " -14341.32205939 -33628.37104224 -31631.99317834 -12491.00334951\n",
      " -20749.61212175 -23204.94743459]\n"
     ]
    }
   ],
   "source": [
    "mse_list = cross_val_score(my_linreg, feature_matrix, label, cv=10, scoring='mean_squared_error')\n",
    "print(mse_list)"
   ]
  },
  {
   "cell_type": "code",
   "execution_count": 131,
   "metadata": {
    "collapsed": false
   },
   "outputs": [
    {
     "name": "stdout",
     "output_type": "stream",
     "text": [
      "[ 153.7754992   178.89394627  188.31527914  193.20353826  119.75525901\n",
      "  183.38039983  177.85385343  111.76315739  144.04725656  152.331702  ]\n"
     ]
    }
   ],
   "source": [
    "mse_list_positive = -mse_list\n",
    "\n",
    "# using numpy sqrt function to calculate rmse:\n",
    "rmse_list = np.sqrt(mse_list_positive)\n",
    "print(rmse_list)"
   ]
  },
  {
   "cell_type": "code",
   "execution_count": 132,
   "metadata": {
    "collapsed": false
   },
   "outputs": [
    {
     "name": "stdout",
     "output_type": "stream",
     "text": [
      "160.331989107\n"
     ]
    }
   ],
   "source": [
    "# calculate the average RMSE as final result of cross validation:\n",
    "print(rmse_list.mean())"
   ]
  },
  {
   "cell_type": "markdown",
   "metadata": {},
   "source": [
    "### Question 3 ### "
   ]
  },
  {
   "cell_type": "code",
   "execution_count": null,
   "metadata": {
    "collapsed": true
   },
   "outputs": [],
   "source": []
  }
 ],
 "metadata": {
  "kernelspec": {
   "display_name": "Python [Root]",
   "language": "python",
   "name": "Python [Root]"
  },
  "language_info": {
   "codemirror_mode": {
    "name": "ipython",
    "version": 3
   },
   "file_extension": ".py",
   "mimetype": "text/x-python",
   "name": "python",
   "nbconvert_exporter": "python",
   "pygments_lexer": "ipython3",
   "version": "3.5.2"
  }
 },
 "nbformat": 4,
 "nbformat_minor": 0
}
