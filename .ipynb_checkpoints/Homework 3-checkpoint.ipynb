{
 "cells": [
  {
   "cell_type": "markdown",
   "metadata": {},
   "source": [
    "## Homework 2 ## \n",
    "\n",
    "------------------\n",
    "\n",
    "### Dave Bravo-Ruelas: 302798475 ###\n",
    "\n",
    "### Alex Perez: 302079523 ###\n",
    "\n",
    "### Angel Orduno: 302090300 ###"
   ]
  },
  {
   "cell_type": "markdown",
   "metadata": {},
   "source": [
    "---------------------\n",
    "\n",
    "---------------------"
   ]
  },
  {
   "cell_type": "markdown",
   "metadata": {},
   "source": [
    "### Question 1 ###\n"
   ]
  },
  {
   "cell_type": "code",
   "execution_count": 49,
   "metadata": {
    "collapsed": true
   },
   "outputs": [],
   "source": [
    "# import all necessary libraries\n",
    "import pandas as pd\n",
    "from sklearn.neighbors import KNeighborsClassifier as knn\n",
    "import numpy as np\n",
    "from sklearn.cross_validation import train_test_split\n",
    "from sklearn.linear_model import LogisticRegression\n",
    "from sklearn.tree import DecisionTreeClassifier as DTC\n",
    "from sklearn.metrics import accuracy_score\n",
    "from sklearn.cross_validation import cross_val_score\n",
    "from sklearn.neighbors import KNeighborsClassifier\n",
    "from sklearn.cross_validation import train_test_split\n",
    "from sklearn.metrics import accuracy_score\n",
    "from sklearn.linear_model import LinearRegression\n",
    "from sklearn import metrics\n",
    "import matplotlib.pyplot as plt"
   ]
  },
  {
   "cell_type": "markdown",
   "metadata": {},
   "source": [
    "### a) ###\n",
    "\n",
    "#### Read the dataset into a Pandas DataFrame #### \n"
   ]
  },
  {
   "cell_type": "code",
   "execution_count": 3,
   "metadata": {
    "collapsed": false
   },
   "outputs": [],
   "source": [
    "df = pd.read_csv(\"https://raw.githubusercontent.com/bravodavid56/datascience-cs4661/master/Homework%203/Credit.csv\")"
   ]
  },
  {
   "cell_type": "markdown",
   "metadata": {},
   "source": [
    "### b) ###\n",
    "\n",
    "#### Check out the dataset ####"
   ]
  },
  {
   "cell_type": "code",
   "execution_count": 4,
   "metadata": {
    "collapsed": false
   },
   "outputs": [
    {
     "data": {
      "text/html": [
       "<div>\n",
       "<table border=\"1\" class=\"dataframe\">\n",
       "  <thead>\n",
       "    <tr style=\"text-align: right;\">\n",
       "      <th></th>\n",
       "      <th>Income</th>\n",
       "      <th>Limit</th>\n",
       "      <th>Rating</th>\n",
       "      <th>Cards</th>\n",
       "      <th>Age</th>\n",
       "      <th>Education</th>\n",
       "      <th>Married</th>\n",
       "      <th>Balance</th>\n",
       "    </tr>\n",
       "  </thead>\n",
       "  <tbody>\n",
       "    <tr>\n",
       "      <th>0</th>\n",
       "      <td>14.891</td>\n",
       "      <td>3606</td>\n",
       "      <td>283</td>\n",
       "      <td>2</td>\n",
       "      <td>34</td>\n",
       "      <td>11</td>\n",
       "      <td>1</td>\n",
       "      <td>333</td>\n",
       "    </tr>\n",
       "    <tr>\n",
       "      <th>100</th>\n",
       "      <td>21.153</td>\n",
       "      <td>3736</td>\n",
       "      <td>256</td>\n",
       "      <td>1</td>\n",
       "      <td>41</td>\n",
       "      <td>11</td>\n",
       "      <td>0</td>\n",
       "      <td>298</td>\n",
       "    </tr>\n",
       "    <tr>\n",
       "      <th>200</th>\n",
       "      <td>23.949</td>\n",
       "      <td>5343</td>\n",
       "      <td>383</td>\n",
       "      <td>2</td>\n",
       "      <td>40</td>\n",
       "      <td>18</td>\n",
       "      <td>1</td>\n",
       "      <td>829</td>\n",
       "    </tr>\n",
       "    <tr>\n",
       "      <th>300</th>\n",
       "      <td>21.786</td>\n",
       "      <td>4632</td>\n",
       "      <td>355</td>\n",
       "      <td>1</td>\n",
       "      <td>50</td>\n",
       "      <td>17</td>\n",
       "      <td>1</td>\n",
       "      <td>580</td>\n",
       "    </tr>\n",
       "  </tbody>\n",
       "</table>\n",
       "</div>"
      ],
      "text/plain": [
       "     Income  Limit  Rating  Cards  Age  Education  Married  Balance\n",
       "0    14.891   3606     283      2   34         11        1      333\n",
       "100  21.153   3736     256      1   41         11        0      298\n",
       "200  23.949   5343     383      2   40         18        1      829\n",
       "300  21.786   4632     355      1   50         17        1      580"
      ]
     },
     "execution_count": 4,
     "metadata": {},
     "output_type": "execute_result"
    }
   ],
   "source": [
    "df[::100]"
   ]
  },
  {
   "cell_type": "markdown",
   "metadata": {},
   "source": [
    "### c) ###\n",
    "\n",
    "#### Generate the feature matrix and target vector, and normalize features ####\n"
   ]
  },
  {
   "cell_type": "code",
   "execution_count": 5,
   "metadata": {
    "collapsed": false
   },
   "outputs": [
    {
     "name": "stderr",
     "output_type": "stream",
     "text": [
      "C:\\Users\\Dave Bravo-Ruelas\\Anaconda3\\lib\\site-packages\\pandas\\core\\indexing.py:465: SettingWithCopyWarning: \n",
      "A value is trying to be set on a copy of a slice from a DataFrame.\n",
      "Try using .loc[row_indexer,col_indexer] = value instead\n",
      "\n",
      "See the caveats in the documentation: http://pandas.pydata.org/pandas-docs/stable/indexing.html#indexing-view-versus-copy\n",
      "  self.obj[item] = s\n"
     ]
    }
   ],
   "source": [
    "\n",
    "# generate feature matrix \n",
    "features = [\"Income\", \"Limit\",\"Rating\", \"Cards\",\"Age\",\"Education\",\"Married\"]\n",
    "feature_matrix = df[features]\n",
    "\n",
    "label = df['Balance']\n",
    "\n",
    "# feature_matrix['Income'] = feature_matrix['']\n",
    "# find the max of each feature to then normalize the features by their maximum values\n",
    "\n",
    "income = feature_matrix['Income'].max()\n",
    "limit = feature_matrix['Limit'].max()\n",
    "rating = feature_matrix['Rating'].max()\n",
    "cards = feature_matrix['Cards'].max()\n",
    "age = feature_matrix['Age'].max()\n",
    "education = feature_matrix['Education'].max()\n",
    "\n",
    "# no need to normalize the married feature\n",
    "# married = feature_matrix['Married'].max()\n",
    "\n",
    "def inc_norm(x):\n",
    "    return x / income\n",
    "\n",
    "def lim_norm(x):\n",
    "    return x / limit\n",
    "\n",
    "def rat_norm(x):\n",
    "    return x / rating\n",
    "\n",
    "def car_norm(x):\n",
    "    return x / cards\n",
    "\n",
    "def age_norm(x):\n",
    "    return x / age\n",
    "\n",
    "def edu_norm(x):\n",
    "    return x / education\n",
    "\n",
    "# no need to normalize married since it's binary \n",
    "# def mar_norm(x):\n",
    "#    return x / married\n",
    "\n",
    "feature_matrix.loc[:,'Income'] = feature_matrix['Income'].apply(inc_norm)\n",
    "feature_matrix.loc[:,'Limit'] = feature_matrix['Limit'].apply(lim_norm)\n",
    "feature_matrix.loc[:,'Rating'] = feature_matrix['Rating'].apply(rat_norm)\n",
    "feature_matrix.loc[:,'Cards'] = feature_matrix['Cards'].apply(car_norm)\n",
    "feature_matrix.loc[:,'Age'] = feature_matrix['Age'].apply(age_norm)\n",
    "feature_matrix.loc[:,'Education'] = feature_matrix['Education'].apply(edu_norm)\n"
   ]
  },
  {
   "cell_type": "code",
   "execution_count": 6,
   "metadata": {
    "collapsed": false
   },
   "outputs": [
    {
     "data": {
      "text/html": [
       "<div>\n",
       "<table border=\"1\" class=\"dataframe\">\n",
       "  <thead>\n",
       "    <tr style=\"text-align: right;\">\n",
       "      <th></th>\n",
       "      <th>Income</th>\n",
       "      <th>Limit</th>\n",
       "      <th>Rating</th>\n",
       "      <th>Cards</th>\n",
       "      <th>Age</th>\n",
       "      <th>Education</th>\n",
       "      <th>Married</th>\n",
       "    </tr>\n",
       "  </thead>\n",
       "  <tbody>\n",
       "    <tr>\n",
       "      <th>0</th>\n",
       "      <td>0.079787</td>\n",
       "      <td>0.259182</td>\n",
       "      <td>0.288187</td>\n",
       "      <td>0.222222</td>\n",
       "      <td>0.346939</td>\n",
       "      <td>0.55</td>\n",
       "      <td>1</td>\n",
       "    </tr>\n",
       "    <tr>\n",
       "      <th>100</th>\n",
       "      <td>0.113339</td>\n",
       "      <td>0.268526</td>\n",
       "      <td>0.260692</td>\n",
       "      <td>0.111111</td>\n",
       "      <td>0.418367</td>\n",
       "      <td>0.55</td>\n",
       "      <td>0</td>\n",
       "    </tr>\n",
       "    <tr>\n",
       "      <th>200</th>\n",
       "      <td>0.128321</td>\n",
       "      <td>0.384029</td>\n",
       "      <td>0.390020</td>\n",
       "      <td>0.222222</td>\n",
       "      <td>0.408163</td>\n",
       "      <td>0.90</td>\n",
       "      <td>1</td>\n",
       "    </tr>\n",
       "    <tr>\n",
       "      <th>300</th>\n",
       "      <td>0.116731</td>\n",
       "      <td>0.332926</td>\n",
       "      <td>0.361507</td>\n",
       "      <td>0.111111</td>\n",
       "      <td>0.510204</td>\n",
       "      <td>0.85</td>\n",
       "      <td>1</td>\n",
       "    </tr>\n",
       "  </tbody>\n",
       "</table>\n",
       "</div>"
      ],
      "text/plain": [
       "       Income     Limit    Rating     Cards       Age  Education  Married\n",
       "0    0.079787  0.259182  0.288187  0.222222  0.346939       0.55        1\n",
       "100  0.113339  0.268526  0.260692  0.111111  0.418367       0.55        0\n",
       "200  0.128321  0.384029  0.390020  0.222222  0.408163       0.90        1\n",
       "300  0.116731  0.332926  0.361507  0.111111  0.510204       0.85        1"
      ]
     },
     "execution_count": 6,
     "metadata": {},
     "output_type": "execute_result"
    }
   ],
   "source": [
    "# printing the normalized features\n",
    "feature_matrix[::100]\n"
   ]
  },
  {
   "cell_type": "markdown",
   "metadata": {},
   "source": [
    "### d) ###\n",
    "\n",
    "#### Splitting the dataset into testing and training set #### "
   ]
  },
  {
   "cell_type": "code",
   "execution_count": 7,
   "metadata": {
    "collapsed": false
   },
   "outputs": [
    {
     "name": "stdout",
     "output_type": "stream",
     "text": [
      "(320, 7) (80, 7) \n",
      " (320,) (80,)\n"
     ]
    }
   ],
   "source": [
    "# feature_train = features used for training\n",
    "# feature_test = features used for testing\n",
    "# label_train = label used for training \n",
    "# label_test = label used for testing \n",
    "\n",
    "feature_train, feature_test, label_train, label_test = train_test_split(feature_matrix, label, test_size = 0.2, random_state = 2)\n",
    "\n",
    "print(feature_train.shape, feature_test.shape, \"\\n\", label_train.shape, label_test.shape)\n"
   ]
  },
  {
   "cell_type": "markdown",
   "metadata": {},
   "source": [
    "### e) ### \n",
    "\n",
    "#### Linear Regression Model #### "
   ]
  },
  {
   "cell_type": "code",
   "execution_count": 8,
   "metadata": {
    "collapsed": false
   },
   "outputs": [
    {
     "data": {
      "text/plain": [
       "LinearRegression(copy_X=True, fit_intercept=True, n_jobs=1, normalize=False)"
      ]
     },
     "execution_count": 8,
     "metadata": {},
     "output_type": "execute_result"
    }
   ],
   "source": [
    "# creating a linear regression model \n",
    "my_linreg = LinearRegression()\n",
    "\n",
    "# fitting the model using our training sets\n",
    "my_linreg.fit(feature_train, label_train)\n"
   ]
  },
  {
   "cell_type": "code",
   "execution_count": 9,
   "metadata": {
    "collapsed": false
   },
   "outputs": [
    {
     "name": "stdout",
     "output_type": "stream",
     "text": [
      "-451.390136282\n",
      "[-1413.47222539  1357.75410875  2441.3004289    103.52548744  -102.02433542\n",
      "    40.34044338   -48.45522561]\n"
     ]
    }
   ],
   "source": [
    "# printing Theta0 using attribute \"intercept_\":\n",
    "print(my_linreg.intercept_)\n",
    "\n",
    "# printing [Theta1, Theta2, Theta3] using attribute \"coef_\":\n",
    "print(my_linreg.coef_)"
   ]
  },
  {
   "cell_type": "markdown",
   "metadata": {},
   "source": [
    "#### Thus, we can see that Credit Card rating is the most important, while Income was the least important ####"
   ]
  },
  {
   "cell_type": "markdown",
   "metadata": {},
   "source": [
    "### f) ### \n",
    "#### Predict \"balance\" for users in testing set ####\n",
    "\n",
    "#### Then compare to the actual balance and reporting the RMSE ####"
   ]
  },
  {
   "cell_type": "code",
   "execution_count": 10,
   "metadata": {
    "collapsed": false
   },
   "outputs": [
    {
     "name": "stdout",
     "output_type": "stream",
     "text": [
      "154.410746767\n"
     ]
    }
   ],
   "source": [
    "# make predictions on the testing set\n",
    "y_prediction = my_linreg.predict(feature_test)\n",
    "\n",
    "# calculate mean square error \n",
    "mse = metrics.mean_squared_error(label_test, y_prediction)\n",
    "rmse = np.sqrt(mse)\n",
    "print(rmse)"
   ]
  },
  {
   "cell_type": "markdown",
   "metadata": {},
   "source": [
    "### g) ###\n",
    "\n",
    "#### Use 10-fold Cross Validation #### "
   ]
  },
  {
   "cell_type": "code",
   "execution_count": 11,
   "metadata": {
    "collapsed": false
   },
   "outputs": [
    {
     "name": "stdout",
     "output_type": "stream",
     "text": [
      "[-23646.90415343 -32003.04401232 -35462.64435619 -37327.60719635\n",
      " -14341.32205939 -33628.37104224 -31631.99317834 -12491.00334951\n",
      " -20749.61212175 -23204.94743459]\n"
     ]
    }
   ],
   "source": [
    "mse_list = cross_val_score(my_linreg, feature_matrix, label, cv=10, scoring='mean_squared_error')\n",
    "print(mse_list)"
   ]
  },
  {
   "cell_type": "code",
   "execution_count": 12,
   "metadata": {
    "collapsed": false
   },
   "outputs": [
    {
     "name": "stdout",
     "output_type": "stream",
     "text": [
      "[ 153.7754992   178.89394627  188.31527914  193.20353826  119.75525901\n",
      "  183.38039983  177.85385343  111.76315739  144.04725656  152.331702  ]\n"
     ]
    }
   ],
   "source": [
    "mse_list_positive = -mse_list\n",
    "\n",
    "# using numpy sqrt function to calculate rmse:\n",
    "rmse_list = np.sqrt(mse_list_positive)\n",
    "print(rmse_list)"
   ]
  },
  {
   "cell_type": "code",
   "execution_count": 13,
   "metadata": {
    "collapsed": false
   },
   "outputs": [
    {
     "name": "stdout",
     "output_type": "stream",
     "text": [
      "160.331989107\n"
     ]
    }
   ],
   "source": [
    "# calculate the average RMSE as final result of cross validation:\n",
    "print(rmse_list.mean())"
   ]
  },
  {
   "cell_type": "markdown",
   "metadata": {},
   "source": [
    "### Question 3 ### "
   ]
  },
  {
   "cell_type": "markdown",
   "metadata": {
    "collapsed": true
   },
   "source": [
    "### a) ###\n",
    "#### Reading in a simplified version of Heart dataset from personal github ####"
   ]
  },
  {
   "cell_type": "code",
   "execution_count": 14,
   "metadata": {
    "collapsed": false
   },
   "outputs": [],
   "source": [
    "# reading from personal github url\n",
    "df = pd.read_csv(\"https://raw.githubusercontent.com/bravodavid56/datascience-cs4661/master/Homework%203/Heart_short.csv\")\n"
   ]
  },
  {
   "cell_type": "code",
   "execution_count": 16,
   "metadata": {
    "collapsed": false
   },
   "outputs": [
    {
     "data": {
      "text/html": [
       "<div>\n",
       "<table border=\"1\" class=\"dataframe\">\n",
       "  <thead>\n",
       "    <tr style=\"text-align: right;\">\n",
       "      <th></th>\n",
       "      <th>Age</th>\n",
       "      <th>RestBP</th>\n",
       "      <th>Chol</th>\n",
       "      <th>RestECG</th>\n",
       "      <th>MaxHR</th>\n",
       "      <th>Oldpeak</th>\n",
       "      <th>AHD</th>\n",
       "    </tr>\n",
       "  </thead>\n",
       "  <tbody>\n",
       "    <tr>\n",
       "      <th>0</th>\n",
       "      <td>63</td>\n",
       "      <td>145</td>\n",
       "      <td>233</td>\n",
       "      <td>2</td>\n",
       "      <td>150</td>\n",
       "      <td>2.3</td>\n",
       "      <td>No</td>\n",
       "    </tr>\n",
       "    <tr>\n",
       "      <th>50</th>\n",
       "      <td>51</td>\n",
       "      <td>125</td>\n",
       "      <td>213</td>\n",
       "      <td>2</td>\n",
       "      <td>125</td>\n",
       "      <td>1.4</td>\n",
       "      <td>No</td>\n",
       "    </tr>\n",
       "    <tr>\n",
       "      <th>100</th>\n",
       "      <td>51</td>\n",
       "      <td>100</td>\n",
       "      <td>222</td>\n",
       "      <td>0</td>\n",
       "      <td>143</td>\n",
       "      <td>1.2</td>\n",
       "      <td>No</td>\n",
       "    </tr>\n",
       "    <tr>\n",
       "      <th>150</th>\n",
       "      <td>59</td>\n",
       "      <td>174</td>\n",
       "      <td>249</td>\n",
       "      <td>0</td>\n",
       "      <td>143</td>\n",
       "      <td>0.0</td>\n",
       "      <td>Yes</td>\n",
       "    </tr>\n",
       "    <tr>\n",
       "      <th>200</th>\n",
       "      <td>39</td>\n",
       "      <td>94</td>\n",
       "      <td>199</td>\n",
       "      <td>0</td>\n",
       "      <td>179</td>\n",
       "      <td>0.0</td>\n",
       "      <td>No</td>\n",
       "    </tr>\n",
       "    <tr>\n",
       "      <th>250</th>\n",
       "      <td>46</td>\n",
       "      <td>140</td>\n",
       "      <td>311</td>\n",
       "      <td>0</td>\n",
       "      <td>120</td>\n",
       "      <td>1.8</td>\n",
       "      <td>Yes</td>\n",
       "    </tr>\n",
       "  </tbody>\n",
       "</table>\n",
       "</div>"
      ],
      "text/plain": [
       "     Age  RestBP  Chol  RestECG  MaxHR  Oldpeak  AHD\n",
       "0     63     145   233        2    150      2.3   No\n",
       "50    51     125   213        2    125      1.4   No\n",
       "100   51     100   222        0    143      1.2   No\n",
       "150   59     174   249        0    143      0.0  Yes\n",
       "200   39      94   199        0    179      0.0   No\n",
       "250   46     140   311        0    120      1.8  Yes"
      ]
     },
     "execution_count": 16,
     "metadata": {},
     "output_type": "execute_result"
    }
   ],
   "source": [
    "# printing every 50 entries in the csv file\n",
    "df[::50]\n"
   ]
  },
  {
   "cell_type": "markdown",
   "metadata": {},
   "source": [
    "### b) ###\n",
    "\n",
    "#### Generating the feature matrix and label vector (AHD) and normalizing the features #### "
   ]
  },
  {
   "cell_type": "code",
   "execution_count": 24,
   "metadata": {
    "collapsed": false,
    "scrolled": true
   },
   "outputs": [
    {
     "data": {
      "text/html": [
       "<div>\n",
       "<table border=\"1\" class=\"dataframe\">\n",
       "  <thead>\n",
       "    <tr style=\"text-align: right;\">\n",
       "      <th></th>\n",
       "      <th>Age</th>\n",
       "      <th>RestBP</th>\n",
       "      <th>Chol</th>\n",
       "      <th>RestECG</th>\n",
       "      <th>MaxHR</th>\n",
       "      <th>Oldpeak</th>\n",
       "    </tr>\n",
       "  </thead>\n",
       "  <tbody>\n",
       "    <tr>\n",
       "      <th>0</th>\n",
       "      <td>63</td>\n",
       "      <td>145</td>\n",
       "      <td>233</td>\n",
       "      <td>2</td>\n",
       "      <td>150</td>\n",
       "      <td>2.3</td>\n",
       "    </tr>\n",
       "    <tr>\n",
       "      <th>50</th>\n",
       "      <td>51</td>\n",
       "      <td>125</td>\n",
       "      <td>213</td>\n",
       "      <td>2</td>\n",
       "      <td>125</td>\n",
       "      <td>1.4</td>\n",
       "    </tr>\n",
       "    <tr>\n",
       "      <th>100</th>\n",
       "      <td>51</td>\n",
       "      <td>100</td>\n",
       "      <td>222</td>\n",
       "      <td>0</td>\n",
       "      <td>143</td>\n",
       "      <td>1.2</td>\n",
       "    </tr>\n",
       "    <tr>\n",
       "      <th>150</th>\n",
       "      <td>59</td>\n",
       "      <td>174</td>\n",
       "      <td>249</td>\n",
       "      <td>0</td>\n",
       "      <td>143</td>\n",
       "      <td>0.0</td>\n",
       "    </tr>\n",
       "    <tr>\n",
       "      <th>200</th>\n",
       "      <td>39</td>\n",
       "      <td>94</td>\n",
       "      <td>199</td>\n",
       "      <td>0</td>\n",
       "      <td>179</td>\n",
       "      <td>0.0</td>\n",
       "    </tr>\n",
       "    <tr>\n",
       "      <th>250</th>\n",
       "      <td>46</td>\n",
       "      <td>140</td>\n",
       "      <td>311</td>\n",
       "      <td>0</td>\n",
       "      <td>120</td>\n",
       "      <td>1.8</td>\n",
       "    </tr>\n",
       "  </tbody>\n",
       "</table>\n",
       "</div>"
      ],
      "text/plain": [
       "     Age  RestBP  Chol  RestECG  MaxHR  Oldpeak\n",
       "0     63     145   233        2    150      2.3\n",
       "50    51     125   213        2    125      1.4\n",
       "100   51     100   222        0    143      1.2\n",
       "150   59     174   249        0    143      0.0\n",
       "200   39      94   199        0    179      0.0\n",
       "250   46     140   311        0    120      1.8"
      ]
     },
     "execution_count": 24,
     "metadata": {},
     "output_type": "execute_result"
    }
   ],
   "source": [
    "# first obtain the feature matrix using the feature names\n",
    "features = ['Age', 'RestBP', 'Chol', 'RestECG','MaxHR','Oldpeak']\n",
    "feature_matrix = df[features]\n",
    "feature_matrix[::50]\n"
   ]
  },
  {
   "cell_type": "code",
   "execution_count": 25,
   "metadata": {
    "collapsed": false
   },
   "outputs": [
    {
     "name": "stderr",
     "output_type": "stream",
     "text": [
      "C:\\Users\\Dave Bravo-Ruelas\\Anaconda3\\lib\\site-packages\\pandas\\core\\indexing.py:465: SettingWithCopyWarning: \n",
      "A value is trying to be set on a copy of a slice from a DataFrame.\n",
      "Try using .loc[row_indexer,col_indexer] = value instead\n",
      "\n",
      "See the caveats in the documentation: http://pandas.pydata.org/pandas-docs/stable/indexing.html#indexing-view-versus-copy\n",
      "  self.obj[item] = s\n",
      "C:\\Users\\Dave Bravo-Ruelas\\Anaconda3\\lib\\site-packages\\pandas\\core\\indexing.py:549: SettingWithCopyWarning: \n",
      "A value is trying to be set on a copy of a slice from a DataFrame.\n",
      "Try using .loc[row_indexer,col_indexer] = value instead\n",
      "\n",
      "See the caveats in the documentation: http://pandas.pydata.org/pandas-docs/stable/indexing.html#indexing-view-versus-copy\n",
      "  self.obj[item_labels[indexer[info_axis]]] = value\n"
     ]
    },
    {
     "data": {
      "text/html": [
       "<div>\n",
       "<table border=\"1\" class=\"dataframe\">\n",
       "  <thead>\n",
       "    <tr style=\"text-align: right;\">\n",
       "      <th></th>\n",
       "      <th>Age</th>\n",
       "      <th>RestBP</th>\n",
       "      <th>Chol</th>\n",
       "      <th>RestECG</th>\n",
       "      <th>MaxHR</th>\n",
       "      <th>Oldpeak</th>\n",
       "    </tr>\n",
       "  </thead>\n",
       "  <tbody>\n",
       "    <tr>\n",
       "      <th>0</th>\n",
       "      <td>0.818182</td>\n",
       "      <td>0.725</td>\n",
       "      <td>0.413121</td>\n",
       "      <td>1.0</td>\n",
       "      <td>0.742574</td>\n",
       "      <td>0.370968</td>\n",
       "    </tr>\n",
       "    <tr>\n",
       "      <th>50</th>\n",
       "      <td>0.662338</td>\n",
       "      <td>0.625</td>\n",
       "      <td>0.377660</td>\n",
       "      <td>1.0</td>\n",
       "      <td>0.618812</td>\n",
       "      <td>0.225806</td>\n",
       "    </tr>\n",
       "    <tr>\n",
       "      <th>100</th>\n",
       "      <td>0.662338</td>\n",
       "      <td>0.500</td>\n",
       "      <td>0.393617</td>\n",
       "      <td>0.0</td>\n",
       "      <td>0.707921</td>\n",
       "      <td>0.193548</td>\n",
       "    </tr>\n",
       "    <tr>\n",
       "      <th>150</th>\n",
       "      <td>0.766234</td>\n",
       "      <td>0.870</td>\n",
       "      <td>0.441489</td>\n",
       "      <td>0.0</td>\n",
       "      <td>0.707921</td>\n",
       "      <td>0.000000</td>\n",
       "    </tr>\n",
       "    <tr>\n",
       "      <th>200</th>\n",
       "      <td>0.506494</td>\n",
       "      <td>0.470</td>\n",
       "      <td>0.352837</td>\n",
       "      <td>0.0</td>\n",
       "      <td>0.886139</td>\n",
       "      <td>0.000000</td>\n",
       "    </tr>\n",
       "    <tr>\n",
       "      <th>250</th>\n",
       "      <td>0.597403</td>\n",
       "      <td>0.700</td>\n",
       "      <td>0.551418</td>\n",
       "      <td>0.0</td>\n",
       "      <td>0.594059</td>\n",
       "      <td>0.290323</td>\n",
       "    </tr>\n",
       "  </tbody>\n",
       "</table>\n",
       "</div>"
      ],
      "text/plain": [
       "          Age  RestBP      Chol  RestECG     MaxHR   Oldpeak\n",
       "0    0.818182   0.725  0.413121      1.0  0.742574  0.370968\n",
       "50   0.662338   0.625  0.377660      1.0  0.618812  0.225806\n",
       "100  0.662338   0.500  0.393617      0.0  0.707921  0.193548\n",
       "150  0.766234   0.870  0.441489      0.0  0.707921  0.000000\n",
       "200  0.506494   0.470  0.352837      0.0  0.886139  0.000000\n",
       "250  0.597403   0.700  0.551418      0.0  0.594059  0.290323"
      ]
     },
     "execution_count": 25,
     "metadata": {},
     "output_type": "execute_result"
    }
   ],
   "source": [
    "# then normalize the values in the features using the max value in the domain\n",
    "# for each feature:\n",
    "for e in features:\n",
    "    # find the maximum in the domain of the feature\n",
    "    maxdomain = feature_matrix[e].max()\n",
    "\n",
    "    # replace the value (x) with the value (x) divided by the max in the domain\n",
    "    # this is the definition of normalized values\n",
    "    # note: we define a lambda function to apply to value in the feature\n",
    "    feature_matrix.loc[:,e] = feature_matrix[e].apply(lambda x: x / maxdomain)\n",
    "    \n",
    "feature_matrix[::50]"
   ]
  },
  {
   "cell_type": "code",
   "execution_count": 36,
   "metadata": {
    "collapsed": false
   },
   "outputs": [
    {
     "data": {
      "text/plain": [
       "0      0\n",
       "50     0\n",
       "100    0\n",
       "150    1\n",
       "200    0\n",
       "250    1\n",
       "Name: AHD, dtype: int64"
      ]
     },
     "execution_count": 36,
     "metadata": {},
     "output_type": "execute_result"
    }
   ],
   "source": [
    "# then we create a label vector AHD\n",
    "# the lambda function creates an int() value of whatever x == 'Yes' creates\n",
    "# if x == 'Yes' is TRUE, it returns 1\n",
    "# if x == 'No' is FALSE, it returns 0\n",
    "# this is for changing categorical values to discrete values\n",
    "label = df['AHD'].apply(lambda x: int(x == 'Yes'))\n",
    "label[::50]"
   ]
  },
  {
   "cell_type": "markdown",
   "metadata": {},
   "source": [
    "### c) ###\n",
    "#### Split the testing and training set into ts = 0.2, rs = 3 ####"
   ]
  },
  {
   "cell_type": "code",
   "execution_count": 37,
   "metadata": {
    "collapsed": false
   },
   "outputs": [],
   "source": [
    "# feature_train = features used for training\n",
    "# feature_test = features used for testing\n",
    "# label_train = label used for training \n",
    "# label_test = label used for testing \n",
    "\n",
    "feature_train, feature_test, label_train, label_test = train_test_split(feature_matrix, label, test_size = 0.2, random_state = 3)\n"
   ]
  },
  {
   "cell_type": "markdown",
   "metadata": {},
   "source": [
    "### d) ###\n",
    "\n",
    "#### Using Logistic Regression Classifier to predict Heart Disease using c) ####\n",
    "\n",
    "#### Then calculating Accuracy #### "
   ]
  },
  {
   "cell_type": "code",
   "execution_count": 43,
   "metadata": {
    "collapsed": false
   },
   "outputs": [
    {
     "data": {
      "text/plain": [
       "LogisticRegression(C=1.0, class_weight=None, dual=False, fit_intercept=True,\n",
       "          intercept_scaling=1, max_iter=100, multi_class='ovr', n_jobs=1,\n",
       "          penalty='l2', random_state=None, solver='liblinear', tol=0.0001,\n",
       "          verbose=0, warm_start=False)"
      ]
     },
     "execution_count": 43,
     "metadata": {},
     "output_type": "execute_result"
    }
   ],
   "source": [
    "# create the untrained classifier\n",
    "logregclass = LogisticRegression()\n",
    "\n",
    "# train the classifier using our data\n",
    "logregclass.fit(feature_train, label_train)"
   ]
  },
  {
   "cell_type": "code",
   "execution_count": 45,
   "metadata": {
    "collapsed": false
   },
   "outputs": [
    {
     "name": "stdout",
     "output_type": "stream",
     "text": [
      "0.719298245614\n"
     ]
    }
   ],
   "source": [
    "# create a prediction using our classifier\n",
    "label_predict = logregclass.predict(feature_test)\n",
    "\n",
    "# compute accuracy\n",
    "score = accuracy_score(label_test, label_predict)\n",
    "\n",
    "print(score)"
   ]
  },
  {
   "cell_type": "markdown",
   "metadata": {},
   "source": [
    "### e) ###\n",
    "\n",
    "#### Predicting the probability #### "
   ]
  },
  {
   "cell_type": "code",
   "execution_count": 53,
   "metadata": {
    "collapsed": false
   },
   "outputs": [],
   "source": [
    "# find the probablities of the labels\n",
    "label_probability = logregclass.predict_proba(feature_test)\n",
    "\n",
    "# finding the false positive rate, true positive rate, and threshholds \n",
    "fpr, tpr, thresholds = metrics.roc_curve(label_test, label_probability[:,1], pos_label=1)\n",
    "\n",
    "# finding the area under the curve\n",
    "AUC = metrics.auc(fpr, tpr)"
   ]
  },
  {
   "cell_type": "code",
   "execution_count": 54,
   "metadata": {
    "collapsed": false
   },
   "outputs": [
    {
     "data": {
      "image/png": "[encoded data removed]",
      "text/plain": [
       "<matplotlib.figure.Figure at 0x23d01dbf780>"
      ]
     },
     "metadata": {},
     "output_type": "display_data"
    }
   ],
   "source": [
    "import matplotlib.pyplot as plt\n",
    "\n",
    "# The following line will tell Jupyter Notebook to keep the figures inside the explorer page \n",
    "# rather than openng a new figure window:\n",
    "%matplotlib inline\n",
    "\n",
    "plt.figure()\n",
    "\n",
    "# Roc Curve:\n",
    "plt.plot(fpr, tpr, color='red', lw=2, \n",
    "         label='ROC Curve (area = %0.2f)' % AUC)\n",
    "\n",
    "# Random Guess line:\n",
    "plt.plot([0, 1], [0, 1], color='blue', lw=1, linestyle='--')\n",
    "\n",
    "# Defining The Range of X-Axis and Y-Axis:\n",
    "plt.xlim([-0.005, 1.005])\n",
    "plt.ylim([0.0, 1.01])\n",
    "\n",
    "# Labels, Title, Legend:\n",
    "plt.xlabel('False Positive Rate')\n",
    "plt.ylabel('True Positive Rate')\n",
    "plt.title('Receiver operating characteristic')\n",
    "plt.legend(loc=\"lower right\")\n",
    "\n",
    "plt.show()"
   ]
  },
  {
   "cell_type": "code",
   "execution_count": null,
   "metadata": {
    "collapsed": true
   },
   "outputs": [],
   "source": []
  }
 ],
 "metadata": {
  "kernelspec": {
   "display_name": "Python [Root]",
   "language": "python",
   "name": "Python [Root]"
  },
  "language_info": {
   "codemirror_mode": {
    "name": "ipython",
    "version": 3
   },
   "file_extension": ".py",
   "mimetype": "text/x-python",
   "name": "python",
   "nbconvert_exporter": "python",
   "pygments_lexer": "ipython3",
   "version": "3.5.2"
  }
 },
 "nbformat": 4,
 "nbformat_minor": 0
}
